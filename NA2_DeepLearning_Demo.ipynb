{
  "nbformat": 4,
  "nbformat_minor": 0,
  "metadata": {
    "colab": {
      "name": "NA2_DeepLearning_Demo.ipynb",
      "version": "0.3.2",
      "provenance": [],
      "collapsed_sections": [
        "L5HK_aiveqab",
        "fySWfGTHifHy",
        "TiLTTBXyteeF",
        "q0ZOx5vzycWv"
      ],
      "toc_visible": true,
      "include_colab_link": true
    },
    "kernelspec": {
      "name": "python3",
      "display_name": "Python 3"
    }
  },
  "cells": [
    {
      "cell_type": "markdown",
      "metadata": {
        "id": "view-in-github",
        "colab_type": "text"
      },
      "source": [
        "[View in Colaboratory](https://colab.research.google.com/github/Kazuma0716/ros_setup_scripts_Ubuntu16.04_server/blob/master/NA2_DeepLearning_Demo.ipynb)"
      ]
    },
    {
      "metadata": {
        "id": "AD5YFyVeZEJ7",
        "colab_type": "text"
      },
      "cell_type": "markdown",
      "source": [
        "# 数値解析2 深層学習デモプログラム\n",
        "\n",
        "+ デモで動かしているプログラムは編集できません\n",
        "+ 「ファイル」から「ドライブにコピーを保存」すると自分のドライブに保存できます\n",
        "+ デモを見ながら保存したものにコメントを付け加えたり，変更を加えたり実行するとGood"
      ]
    },
    {
      "metadata": {
        "id": "hZfO0pKwcwO7",
        "colab_type": "text"
      },
      "cell_type": "markdown",
      "source": [
        "---\n",
        "# Demonstration 1 : Activation function"
      ]
    },
    {
      "metadata": {
        "id": "Dkcamb_SaZB7",
        "colab_type": "text"
      },
      "cell_type": "markdown",
      "source": [
        "## 各インポート\n",
        "\n",
        "+ numpy：行列計算など\n",
        "+ keras：TensorFlowなどを使いやすくしてくれるライブラリ"
      ]
    },
    {
      "metadata": {
        "id": "rlwT4S93VL_K",
        "colab_type": "code",
        "colab": {
          "base_uri": "https://localhost:8080/",
          "height": 34
        },
        "outputId": "02b5281c-b8b0-4b7f-b0c1-6620af1d696b"
      },
      "cell_type": "code",
      "source": [
        " import numpy as np\n",
        " import keras"
      ],
      "execution_count": 1,
      "outputs": [
        {
          "output_type": "stream",
          "text": [
            "Using TensorFlow backend.\n"
          ],
          "name": "stderr"
        }
      ]
    },
    {
      "metadata": {
        "id": "T35d3bPXatzt",
        "colab_type": "text"
      },
      "cell_type": "markdown",
      "source": [
        "## mnistデータ読み込み\n",
        "\n",
        "+ X：画像データ(0~255の数字が28x28の行列に格納)\n",
        "+ y：ラベル(0~9の数字のみ)\n",
        "+ _train：訓練用 　_test：評価用\n",
        "+ 訓練データが60000枚，評価用データが10000枚ある"
      ]
    },
    {
      "metadata": {
        "id": "Jz2v0yWc4vVv",
        "colab_type": "code",
        "colab": {
          "base_uri": "https://localhost:8080/",
          "height": 0
        },
        "outputId": "d73f39ab-0558-4507-8658-1c084877f4a1"
      },
      "cell_type": "code",
      "source": [
        "from keras.datasets import mnist\n",
        "(X_train, y_train), (X_test, y_test) = mnist.load_data()"
      ],
      "execution_count": 2,
      "outputs": []
    },
    {
      "metadata": {
        "id": "x7HVJ5i6bpl-",
        "colab_type": "text"
      },
      "cell_type": "markdown",
      "source": [
        "## 入力データの整理\n",
        "\n",
        "+ 使うデータ数の管理（訓練：10000枚，評価1000枚）\n",
        "+ 入力「ベクトル」になるよう整形\n",
        "+ 個々の値を0～255から0～1にする"
      ]
    },
    {
      "metadata": {
        "id": "f7Ur9RFc6FhF",
        "colab_type": "code",
        "colab": {
          "base_uri": "https://localhost:8080/",
          "height": 0
        },
        "outputId": "c30fd149-1c45-42fd-c070-adea9d4fcd0b"
      },
      "cell_type": "code",
      "source": [
        "img_rows, img_cols = 28, 28\n",
        "\n",
        "X_train = X_train.reshape(X_train.shape[0], img_rows * img_cols)[0:10000]\n",
        "X_test = X_test.reshape(X_test.shape[0], img_rows * img_cols)[0:1000]\n",
        "\n",
        "X_train = X_train.astype('float32')\n",
        "X_test = X_test.astype('float32')\n",
        "X_train /= 255\n",
        "X_test /= 255"
      ],
      "execution_count": 4,
      "outputs": []
    },
    {
      "metadata": {
        "id": "wPmvUdFMcTSt",
        "colab_type": "text"
      },
      "cell_type": "markdown",
      "source": [
        "## 出力ラベルの整理\n",
        "\n",
        "+ 使うデータ数の管理（入力データと同じ）\n",
        "+ one-hotベクトル表現にする  \n",
        "ex. 5 →[0 0 0 0 0 1 0 0 0 0 ]"
      ]
    },
    {
      "metadata": {
        "id": "CkqAtIIV7A91",
        "colab_type": "code",
        "colab": {
          "base_uri": "https://localhost:8080/",
          "height": 17
        },
        "outputId": "a7581ea6-6626-4dc1-8dcd-b6d9cb150d6d"
      },
      "cell_type": "code",
      "source": [
        "from keras.utils import np_utils\n",
        "Y_train = np_utils.to_categorical(y_train)[0:10000]\n",
        "Y_test = np_utils.to_categorical(y_test)[0:1000]"
      ],
      "execution_count": 5,
      "outputs": []
    },
    {
      "metadata": {
        "id": "tiYwqhwIdGSH",
        "colab_type": "text"
      },
      "cell_type": "markdown",
      "source": [
        "## 各インポート（その2）\n",
        "\n",
        "+ Sequential：層を重ねてネットワークを構成\n",
        "+ Dense：各層での設定\n",
        "+ Activation：活性化関数\n",
        "+ SGD：確率的勾配降下法"
      ]
    },
    {
      "metadata": {
        "id": "o4fFKL7k7ypX",
        "colab_type": "code",
        "colab": {
          "base_uri": "https://localhost:8080/",
          "height": 17
        },
        "outputId": "d181ad0f-35fd-41a8-b7f9-282cbb619fe5"
      },
      "cell_type": "code",
      "source": [
        "from keras.models import Sequential\n",
        "from keras.layers import Dense, Activation\n",
        "from keras.optimizers import  SGD"
      ],
      "execution_count": 6,
      "outputs": []
    },
    {
      "metadata": {
        "id": "Vgmw9jBQd1P0",
        "colab_type": "text"
      },
      "cell_type": "markdown",
      "source": [
        "## 構築するモデルのサイズの設定\n",
        "\n",
        "+ 入力のサイズを訓練データから取得\n",
        "+ 隠れ層のノード数を200に設定\n",
        "+ 出力のサイズをラベルデータから取得"
      ]
    },
    {
      "metadata": {
        "id": "aPj7fJZKAD_W",
        "colab_type": "code",
        "colab": {
          "base_uri": "https://localhost:8080/",
          "height": 17
        },
        "outputId": "7a6194fb-3d26-4f74-ae61-a743df3d25a2"
      },
      "cell_type": "code",
      "source": [
        "input_shape = X_train[0].shape\n",
        "n_hidden = 200\n",
        "n_out = len(Y_train[0]) #10"
      ],
      "execution_count": 7,
      "outputs": []
    },
    {
      "metadata": {
        "id": "hcT_2lXCeF1-",
        "colab_type": "text"
      },
      "cell_type": "markdown",
      "source": [
        "## モデルの構築\n",
        "\n",
        "+ 中間層での活性化関数：sigmoid\n",
        "+ 出力層での活性化関数：softmax\n",
        "+ 入力-隠れ層-出力層"
      ]
    },
    {
      "metadata": {
        "id": "GJ_RtepieCiE",
        "colab_type": "code",
        "colab": {
          "base_uri": "https://localhost:8080/",
          "height": 208
        },
        "outputId": "ee7ebc6f-2d27-4d79-e33f-ef1f58b1c65f"
      },
      "cell_type": "code",
      "source": [
        "model = Sequential()\n",
        "model.add(Dense(n_hidden, input_shape=input_shape, activation='sigmoid'))\n",
        "model.add(Dense(n_out, activation='softmax'))\n",
        "model.summary()"
      ],
      "execution_count": 8,
      "outputs": [
        {
          "output_type": "stream",
          "text": [
            "_________________________________________________________________\n",
            "Layer (type)                 Output Shape              Param #   \n",
            "=================================================================\n",
            "dense_1 (Dense)              (None, 200)               157000    \n",
            "_________________________________________________________________\n",
            "dense_2 (Dense)              (None, 10)                2010      \n",
            "=================================================================\n",
            "Total params: 159,010\n",
            "Trainable params: 159,010\n",
            "Non-trainable params: 0\n",
            "_________________________________________________________________\n"
          ],
          "name": "stdout"
        }
      ]
    },
    {
      "metadata": {
        "id": "mUNN5P6ueNPH",
        "colab_type": "text"
      },
      "cell_type": "markdown",
      "source": [
        "## モデルのコンパイル\n",
        "\n",
        "+ 損失関数：クロスエントロピー\n",
        "+ 最適化アルゴリズム：SGD\n",
        "+ 評価基準：正答率（accuracy）"
      ]
    },
    {
      "metadata": {
        "id": "LtXOizF8AtTm",
        "colab_type": "code",
        "colab": {
          "base_uri": "https://localhost:8080/",
          "height": 17
        },
        "outputId": "9902e0ba-e9ea-48f0-8e27-22d21532e367"
      },
      "cell_type": "code",
      "source": [
        "model.compile(loss='categorical_crossentropy', optimizer=SGD(lr=0.1),metrics=['accuracy'])"
      ],
      "execution_count": 9,
      "outputs": []
    },
    {
      "metadata": {
        "id": "lajKIaqgeWqy",
        "colab_type": "text"
      },
      "cell_type": "markdown",
      "source": [
        "## fitメソッドによる学習\n",
        "\n",
        "+ epochs：繰り返し回数\n",
        "+ batch_size：バッチサイズ"
      ]
    },
    {
      "metadata": {
        "id": "AHjan2WBBCnD",
        "colab_type": "code",
        "colab": {
          "base_uri": "https://localhost:8080/",
          "height": 402
        },
        "outputId": "eee0dd7f-16ec-450b-cdf8-45441d194968"
      },
      "cell_type": "code",
      "source": [
        "model.fit(X_train, Y_train, epochs=10, batch_size=200)"
      ],
      "execution_count": 10,
      "outputs": [
        {
          "output_type": "stream",
          "text": [
            "Epoch 1/10\n",
            "10000/10000 [==============================] - 0s 31us/step - loss: 2.3139 - acc: 0.1049\n",
            "Epoch 2/10\n",
            "10000/10000 [==============================] - 0s 23us/step - loss: 2.3099 - acc: 0.1024\n",
            "Epoch 3/10\n",
            "10000/10000 [==============================] - 0s 23us/step - loss: 2.3101 - acc: 0.1028\n",
            "Epoch 4/10\n",
            "10000/10000 [==============================] - 0s 22us/step - loss: 2.3084 - acc: 0.1051\n",
            "Epoch 5/10\n",
            "10000/10000 [==============================] - 0s 23us/step - loss: 2.3084 - acc: 0.1058\n",
            "Epoch 6/10\n",
            "10000/10000 [==============================] - 0s 22us/step - loss: 2.3091 - acc: 0.1004\n",
            "Epoch 7/10\n",
            "10000/10000 [==============================] - 0s 22us/step - loss: 2.3081 - acc: 0.1048\n",
            "Epoch 8/10\n",
            "10000/10000 [==============================] - 0s 29us/step - loss: 2.3087 - acc: 0.1026\n",
            "Epoch 9/10\n",
            "10000/10000 [==============================] - 0s 29us/step - loss: 2.3094 - acc: 0.1082\n",
            "Epoch 10/10\n",
            "10000/10000 [==============================] - 0s 29us/step - loss: 2.3077 - acc: 0.1014\n"
          ],
          "name": "stdout"
        },
        {
          "output_type": "execute_result",
          "data": {
            "text/plain": [
              "<keras.callbacks.History at 0x7f75ef60bb38>"
            ]
          },
          "metadata": {
            "tags": []
          },
          "execution_count": 10
        }
      ]
    },
    {
      "metadata": {
        "id": "Ttz-qubyef1n",
        "colab_type": "text"
      },
      "cell_type": "markdown",
      "source": [
        "## evaluateメソッドによる評価\n",
        "\n",
        "+ 損失値（Loss）と正答率（accuracy）を表示"
      ]
    },
    {
      "metadata": {
        "id": "YwGHwszsBNP5",
        "colab_type": "code",
        "colab": {}
      },
      "cell_type": "code",
      "source": [
        "score=model.evaluate(X_test, Y_test, verbose=0)\n",
        "print('Test loss: ', score[0])\n",
        "print('Test accuracy:', score[1])"
      ],
      "execution_count": 0,
      "outputs": []
    },
    {
      "metadata": {
        "id": "L5HK_aiveqab",
        "colab_type": "text"
      },
      "cell_type": "markdown",
      "source": [
        "## **ここから深層学習**"
      ]
    },
    {
      "metadata": {
        "id": "tIQuZsGTfCc3",
        "colab_type": "text"
      },
      "cell_type": "markdown",
      "source": [
        "## モデル構築\n",
        "+ 中間層での活性化関数：sigmoid\n",
        "+ 出力層での活性化関数：softmax\n",
        "+ 入力-隠れ層-隠れ層-隠れ層-隠れ層-隠れ層-出力層"
      ]
    },
    {
      "metadata": {
        "id": "E2kmq9EdBitt",
        "colab_type": "code",
        "colab": {}
      },
      "cell_type": "code",
      "source": [
        "model=Sequential()\n",
        "af = 'sigmoid'\n",
        "model.add(Dense(n_hidden, input_shape=input_shape, activation=af))\n",
        "model.add(Dense(n_hidden, activation=af))\n",
        "model.add(Dense(n_hidden, activation=af))\n",
        "model.add(Dense(n_hidden, activation=af))\n",
        "model.add(Dense(n_hidden, activation=af))\n",
        "model.add(Dense(n_out, activation='softmax'))\n",
        "model.summary()"
      ],
      "execution_count": 0,
      "outputs": []
    },
    {
      "metadata": {
        "id": "U-DhKRB7fUSN",
        "colab_type": "text"
      },
      "cell_type": "markdown",
      "source": [
        "## コンパイル，学習，評価\n",
        "同じように"
      ]
    },
    {
      "metadata": {
        "id": "9W766zcyCxDG",
        "colab_type": "code",
        "colab": {}
      },
      "cell_type": "code",
      "source": [
        "model.compile(loss='categorical_crossentropy', optimizer=SGD(lr=0.1),metrics=['accuracy'])\n",
        "model.fit(X_train, Y_train, epochs=10, batch_size=200)\n",
        "score = model.evaluate(X_test, Y_test, verbose=0)\n",
        "print('Test loss: ', score[0])\n",
        "print('Test accuracy', score[1])"
      ],
      "execution_count": 0,
      "outputs": []
    },
    {
      "metadata": {
        "id": "FDbV0XySfd-5",
        "colab_type": "text"
      },
      "cell_type": "markdown",
      "source": [
        "↑残念な結果"
      ]
    },
    {
      "metadata": {
        "id": "XbwDlr2pfrzf",
        "colab_type": "text"
      },
      "cell_type": "markdown",
      "source": [
        "## 活性化関数をtanhに変更"
      ]
    },
    {
      "metadata": {
        "id": "aSZsH7mwfqO3",
        "colab_type": "code",
        "colab": {}
      },
      "cell_type": "code",
      "source": [
        "model=Sequential()\n",
        "af = 'tanh'\n",
        "model.add(Dense(n_hidden, input_shape=input_shape, activation=af))\n",
        "model.add(Dense(n_hidden, activation=af))\n",
        "model.add(Dense(n_hidden, activation=af))\n",
        "model.add(Dense(n_hidden, activation=af))\n",
        "model.add(Dense(n_hidden, activation=af))\n",
        "model.add(Dense(n_out, activation='softmax'))\n",
        "model.summary()\n",
        "\n",
        "model.compile(loss='categorical_crossentropy', optimizer=SGD(lr=0.1),metrics=['accuracy'])\n",
        "model.fit(X_train, Y_train, epochs=10, batch_size=200)\n",
        "score = model.evaluate(X_test, Y_test, verbose=0)\n",
        "print('Test loss: ', score[0])\n",
        "print('Test accuracy', score[1])"
      ],
      "execution_count": 0,
      "outputs": []
    },
    {
      "metadata": {
        "id": "Bj3BgdUAgBwp",
        "colab_type": "text"
      },
      "cell_type": "markdown",
      "source": [
        "## 活性化関数をReLUに変更"
      ]
    },
    {
      "metadata": {
        "id": "xY9aO4x9gG8r",
        "colab_type": "code",
        "colab": {}
      },
      "cell_type": "code",
      "source": [
        "model=Sequential()\n",
        "af = 'relu'\n",
        "model.add(Dense(n_hidden, input_shape=input_shape, activation=af))\n",
        "model.add(Dense(n_hidden, activation=af))\n",
        "model.add(Dense(n_hidden, activation=af))\n",
        "model.add(Dense(n_hidden, activation=af))\n",
        "model.add(Dense(n_hidden, activation=af))\n",
        "model.add(Dense(n_out, activation='softmax'))\n",
        "model.summary()\n",
        "\n",
        "model.compile(loss='categorical_crossentropy', optimizer=SGD(lr=0.1),metrics=['accuracy'])\n",
        "model.fit(X_train, Y_train, epochs=10, batch_size=200)\n",
        "score = model.evaluate(X_test, Y_test, verbose=0)\n",
        "print('Test loss: ', score[0])\n",
        "print('Test accuracy', score[1])"
      ],
      "execution_count": 0,
      "outputs": []
    },
    {
      "metadata": {
        "id": "fySWfGTHifHy",
        "colab_type": "text"
      },
      "cell_type": "markdown",
      "source": [
        "## Demonstration 1  終\n",
        "---"
      ]
    },
    {
      "metadata": {
        "id": "BmPBA2NbisZh",
        "colab_type": "text"
      },
      "cell_type": "markdown",
      "source": [
        "---\n",
        "# Demonstration 2 : Dropout"
      ]
    },
    {
      "metadata": {
        "id": "NPMPuF__p5EI",
        "colab_type": "text"
      },
      "cell_type": "markdown",
      "source": [
        "## 比較用モデル構築（ドロップアウト無）\n",
        "\n",
        "+ 入力-隠れ層-隠れ層-隠れ層-隠れ層-隠れ層-出力層"
      ]
    },
    {
      "metadata": {
        "id": "TjMjrjiWpxJn",
        "colab_type": "code",
        "colab": {}
      },
      "cell_type": "code",
      "source": [
        "from keras.layers.core import Dropout\n",
        "\n",
        "model=Sequential()\n",
        "af = 'relu'\n",
        "model.add(Dense(n_hidden, input_shape=input_shape, activation=af))\n",
        "model.add(Dense(n_hidden, activation=af))\n",
        "model.add(Dense(n_hidden, activation=af))\n",
        "model.add(Dense(n_hidden, activation=af))\n",
        "model.add(Dense(n_hidden, activation=af))\n",
        "model.add(Dense(n_out, activation='softmax'))\n",
        "model.summary()"
      ],
      "execution_count": 0,
      "outputs": []
    },
    {
      "metadata": {
        "id": "jGVuOY5hqJaW",
        "colab_type": "text"
      },
      "cell_type": "markdown",
      "source": [
        "## ドロップアウト無　コンパイル，学習，評価"
      ]
    },
    {
      "metadata": {
        "id": "cBqN4_j3qIhd",
        "colab_type": "code",
        "colab": {}
      },
      "cell_type": "code",
      "source": [
        "model.compile(loss='categorical_crossentropy', optimizer=SGD(lr=0.1),metrics=['accuracy'])\n",
        "model.fit(X_train, Y_train, epochs=20, batch_size=200)\n",
        "score = model.evaluate(X_test, Y_test, verbose=0)\n",
        "print('Test loss: ', score[0])\n",
        "print('Test accuracy', score[1])"
      ],
      "execution_count": 0,
      "outputs": []
    },
    {
      "metadata": {
        "id": "3nFSwDX4imRW",
        "colab_type": "text"
      },
      "cell_type": "markdown",
      "source": [
        "## インポート＆モデル構築（ドロップアウト有）\n",
        "\n",
        "+ Dropout：ドロップアウトに使う\n",
        "+ 入力-隠れ層-隠れ層-隠れ層-隠れ層-出力層"
      ]
    },
    {
      "metadata": {
        "id": "Qan8qfrmDcq2",
        "colab_type": "code",
        "colab": {}
      },
      "cell_type": "code",
      "source": [
        "from keras.layers.core import Dropout\n",
        "\n",
        "model=Sequential()\n",
        "af = 'relu'\n",
        "model.add(Dense(n_hidden, input_shape=input_shape, activation=af))\n",
        "model.add(Dropout(0.5))\n",
        "model.add(Dense(n_hidden, activation=af))\n",
        "model.add(Dropout(0.5))\n",
        "model.add(Dense(n_hidden, activation=af))\n",
        "model.add(Dropout(0.5))\n",
        "model.add(Dense(n_hidden, activation=af))\n",
        "model.add(Dropout(0.5))\n",
        "model.add(Dense(n_hidden, activation=af))\n",
        "model.add(Dropout(0.5))\n",
        "model.add(Dense(n_out, activation='softmax'))\n",
        "model.summary()"
      ],
      "execution_count": 0,
      "outputs": []
    },
    {
      "metadata": {
        "id": "ixsok-nKqaRB",
        "colab_type": "text"
      },
      "cell_type": "markdown",
      "source": [
        "## ドロップアウト有　コンパイル，学習，評価"
      ]
    },
    {
      "metadata": {
        "id": "HBQ4ORrUD-rK",
        "colab_type": "code",
        "colab": {}
      },
      "cell_type": "code",
      "source": [
        "model.compile(loss='categorical_crossentropy', optimizer=SGD(lr=0.1),metrics=['accuracy'])\n",
        "model.fit(X_train, Y_train, epochs=20, batch_size=200)\n",
        "score = model.evaluate(X_test, Y_test, verbose=0)\n",
        "print('Test loss: ', score[0])\n",
        "print('Test accuracy', score[1])"
      ],
      "execution_count": 0,
      "outputs": []
    },
    {
      "metadata": {
        "id": "TiLTTBXyteeF",
        "colab_type": "text"
      },
      "cell_type": "markdown",
      "source": [
        "## Demonstration 2  終\n",
        "---"
      ]
    },
    {
      "metadata": {
        "id": "mLhzRaRQtme1",
        "colab_type": "text"
      },
      "cell_type": "markdown",
      "source": [
        "---\n",
        "# Demonstration 3 : Auto Encoder"
      ]
    },
    {
      "metadata": {
        "id": "K8fvSa0XukYt",
        "colab_type": "text"
      },
      "cell_type": "markdown",
      "source": [
        "## インポートなど"
      ]
    },
    {
      "metadata": {
        "id": "2Ow8epXmODZl",
        "colab_type": "code",
        "colab": {
          "base_uri": "https://localhost:8080/",
          "height": 17
        },
        "outputId": "f6176a6c-dc58-4329-f6bf-7ee353ecacf7"
      },
      "cell_type": "code",
      "source": [
        "from keras.layers import Input, Dense\n",
        "from keras.models import Model\n",
        "from keras.datasets import mnist\n",
        "import numpy as np"
      ],
      "execution_count": 19,
      "outputs": []
    },
    {
      "metadata": {
        "id": "-NQ3mk5TutUq",
        "colab_type": "text"
      },
      "cell_type": "markdown",
      "source": [
        "## オートエンコーダの設定\n",
        "\n",
        "+ encoding_dim：この次元まで圧縮する\n",
        "+ 入力(784次元)→エンコード(ReLU)→32次元→デコード(sigmoid)→784次元\n",
        "+ SGD，交差エントロピー"
      ]
    },
    {
      "metadata": {
        "id": "1w8oflgyuqun",
        "colab_type": "code",
        "colab": {}
      },
      "cell_type": "code",
      "source": [
        "encoding_dim = 32\n",
        "input_img = Input(shape=(784,))\n",
        "encoded = Dense(encoding_dim, activation='relu')(input_img)\n",
        "decoded = Dense(784, activation='sigmoid')(encoded)\n",
        "autoencoder = Model(input=input_img, output=decoded)\n",
        "\n",
        "autoencoder.compile(optimizer='sgd', loss='categorical_crossentropy')"
      ],
      "execution_count": 0,
      "outputs": []
    },
    {
      "metadata": {
        "id": "Md3DJ0bovhA8",
        "colab_type": "text"
      },
      "cell_type": "markdown",
      "source": [
        "## データの整理\n",
        "\n",
        "+ サイズ，個々の値"
      ]
    },
    {
      "metadata": {
        "id": "WZIhigz8vZJO",
        "colab_type": "code",
        "colab": {
          "base_uri": "https://localhost:8080/",
          "height": 17
        },
        "outputId": "baca349a-ad85-401e-8fc7-d08c52458859"
      },
      "cell_type": "code",
      "source": [
        "(X_train, _), (X_test, _) = mnist.load_data()\n",
        "X_train = X_train.astype('float32')/255\n",
        "X_test = X_test.astype('float32')/255\n",
        "\n",
        "X_train = X_train.reshape((len(X_train), np.prod(X_train.shape[1:])))\n",
        "X_test = X_test.reshape((len(X_test), np.prod(X_test.shape[1:])))"
      ],
      "execution_count": 21,
      "outputs": []
    },
    {
      "metadata": {
        "id": "4JQIqasGvuvV",
        "colab_type": "text"
      },
      "cell_type": "markdown",
      "source": [
        "## 学習"
      ]
    },
    {
      "metadata": {
        "id": "xTVDT6OSv0Tm",
        "colab_type": "code",
        "colab": {}
      },
      "cell_type": "code",
      "source": [
        "autoencoder.fit(X_train, X_train,\n",
        "               nb_epoch=10,\n",
        "               batch_size=512,\n",
        "               shuffle=True,\n",
        "               validation_data=(X_test, X_test))"
      ],
      "execution_count": 0,
      "outputs": []
    },
    {
      "metadata": {
        "id": "tZycq8pBx5vc",
        "colab_type": "text"
      },
      "cell_type": "markdown",
      "source": [
        "## 結果表示\n",
        "\n",
        "+ 学習したモデルにテストデータを入力\n",
        "+ 入力画像と出力画像が似ていればOK\n",
        "+ 上段：入力　下段：出力"
      ]
    },
    {
      "metadata": {
        "id": "PiFq4YG2v01P",
        "colab_type": "code",
        "colab": {}
      },
      "cell_type": "code",
      "source": [
        "import matplotlib.pyplot as plt\n",
        "\n",
        "decoded_imgs = autoencoder.predict(X_test)\n",
        "\n",
        "n = 10\n",
        "plt.figure(figsize=(20, 4))\n",
        "for i in range(n):\n",
        "\n",
        "    ax = plt.subplot(2, n, i+1)\n",
        "    plt.imshow(X_test[i].reshape(28, 28))\n",
        "    plt.gray()\n",
        "    ax.get_xaxis().set_visible(False)\n",
        "    ax.get_yaxis().set_visible(False)\n",
        "\n",
        "\n",
        "    ax = plt.subplot(2, n, i+1+n)\n",
        "    plt.imshow(decoded_imgs[i].reshape(28, 28))\n",
        "    plt.gray()\n",
        "    ax.get_xaxis().set_visible(False)\n",
        "    ax.get_yaxis().set_visible(False)\n",
        "plt.show()"
      ],
      "execution_count": 0,
      "outputs": []
    },
    {
      "metadata": {
        "id": "q0ZOx5vzycWv",
        "colab_type": "text"
      },
      "cell_type": "markdown",
      "source": [
        "ここで学習した重みを保存→DNN内に使う\n",
        "## Demonstration 3 終\n",
        "---"
      ]
    },
    {
      "metadata": {
        "id": "4QfT9F-r1oEY",
        "colab_type": "text"
      },
      "cell_type": "markdown",
      "source": [
        "---\n",
        "# Demonstration 4 : Convolutional Neural Networks"
      ]
    },
    {
      "metadata": {
        "id": "HdJ-EEyq1-P8",
        "colab_type": "text"
      },
      "cell_type": "markdown",
      "source": [
        "## インポート"
      ]
    },
    {
      "metadata": {
        "id": "w08iEn3dygPE",
        "colab_type": "code",
        "colab": {
          "base_uri": "https://localhost:8080/",
          "height": 37
        },
        "outputId": "488f3b3b-27ef-402f-ba18-6f96fb7d9345"
      },
      "cell_type": "code",
      "source": [
        "import numpy as np\n",
        "import keras\n",
        "from keras.datasets import mnist\n",
        "from keras.models import Sequential\n",
        "from keras.layers import Dense, Dropout, Flatten\n",
        "from keras.layers import Conv2D, MaxPooling2D\n",
        "from keras.optimizers import SGD\n",
        "from keras.utils import np_utils"
      ],
      "execution_count": 37,
      "outputs": []
    },
    {
      "metadata": {
        "id": "ANfkQsIX2vHG",
        "colab_type": "text"
      },
      "cell_type": "markdown",
      "source": [
        "## データ読み込み＆整形\n",
        "\n",
        "+ 今回もmnistデータを使用\n",
        "+ 二次元(28*28)のまま入力"
      ]
    },
    {
      "metadata": {
        "id": "tzoRqAur18_K",
        "colab_type": "code",
        "colab": {
          "base_uri": "https://localhost:8080/",
          "height": 37
        },
        "outputId": "ce716c8b-e959-42a6-fabc-b3ad56cc7e4d"
      },
      "cell_type": "code",
      "source": [
        "(X_train, y_train), (X_test, y_test) = mnist.load_data()\n",
        "\n",
        "img_rows, img_cols = 28, 28\n",
        "\n",
        "X_train = X_train.reshape(X_train.shape[0], img_rows,img_cols, 1)[0:10000]\n",
        "X_test = X_test.reshape(X_test.shape[0], img_rows,img_cols, 1)[0:1000]\n",
        "\n",
        "input_shape = (img_rows, img_cols, 1)\n",
        "\n",
        "X_train = X_train.astype('float32')\n",
        "X_test = X_test.astype('float32')\n",
        "X_train /= 255\n",
        "X_test /= 255\n",
        "\n",
        "Y_train = np_utils.to_categorical(y_train)[0:10000]\n",
        "Y_test = np_utils.to_categorical(y_test)[0:1000]"
      ],
      "execution_count": 45,
      "outputs": []
    },
    {
      "metadata": {
        "id": "LK2qgYXw3KWX",
        "colab_type": "text"
      },
      "cell_type": "markdown",
      "source": [
        "## ネットワークモデル構築\n",
        "\n",
        "+ 畳み込み→プーリング→畳み込み→プーリング→（1次元に整形）→3層MLP"
      ]
    },
    {
      "metadata": {
        "id": "g3U_0vra2_-K",
        "colab_type": "code",
        "colab": {}
      },
      "cell_type": "code",
      "source": [
        "n_out = len(Y_train[0])\n",
        "\n",
        "model = Sequential()\n",
        "model.add(Conv2D(16, kernel_size=(3, 3), activation='relu',\n",
        "                input_shape=input_shape))\n",
        "model.add(MaxPooling2D(pool_size=(2, 2)))\n",
        "model.add(Conv2D(32, kernel_size=(3, 3), activation='relu',\n",
        "                input_shape=input_shape))\n",
        "model.add(MaxPooling2D(pool_size=(2, 2)))\n",
        "model.add(Flatten())\n",
        "model.add(Dense(128, activation='relu'))\n",
        "model.add(Dense(n_out, activation='softmax'))\n",
        "model.summary()"
      ],
      "execution_count": 0,
      "outputs": []
    },
    {
      "metadata": {
        "id": "Lw6HboTo4nyR",
        "colab_type": "text"
      },
      "cell_type": "markdown",
      "source": [
        "## 学習＆評価"
      ]
    },
    {
      "metadata": {
        "id": "tpZYly1I4QWm",
        "colab_type": "code",
        "colab": {}
      },
      "cell_type": "code",
      "source": [
        "model.compile(loss='categorical_crossentropy', optimizer=SGD(lr=0.1),\n",
        "             metrics=['accuracy'])\n",
        "model.fit(X_train, Y_train, epochs=5, batch_size=200)\n",
        "score = model.evaluate(X_test, Y_test, verbose=0)\n",
        "print('Test loss: ', score[0])\n",
        "print('Test accuracy: ', score[1])"
      ],
      "execution_count": 0,
      "outputs": []
    },
    {
      "metadata": {
        "id": "OSEaSrYn6E-1",
        "colab_type": "text"
      },
      "cell_type": "markdown",
      "source": [
        "↑有能やん？\n",
        "## Demonstration 4 終\n",
        "---"
      ]
    }
  ]
}